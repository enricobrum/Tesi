{
 "cells": [
  {
   "cell_type": "markdown",
   "metadata": {},
   "source": [
    "# Analisi delle Prestazioni dell'infrastruttura di Rete Firecell 5G\n",
    "## Firecell - Labkit:  \n",
    "Il Firecell-Labkit è un'infrastruttura che permette di distribuire e utilizzare una rete di comunicazione basata su 4G/5G sia in modalità stand-alone (senza l'utilizzo della rete 4G) sia in modalità non-stand-alone in cui vengono sfruttati sia i nodi appartenenti alla rete 4G (enB) sia in nodi appartenenti alla rete 5G (gnB). \n",
    "Il Firecell-Labkit è fornito sia di componenti software sia di tools necessari alla distribuzione della rete e alla validazione del sistema. Tra essi troviamo:\n",
    "* **OAI 5GCN(AUSF,UDM,UDR,AMF,SMF,UPF)**\n",
    "* **MME**\n",
    "* **OAI EPC(HSS, SPGWC,SPGWU)**\n",
    "* **OAI RAN(eNodeB,gNodeB)** \n",
    "* **Wireshark**\n",
    "* **UHD(USRP HW DRIVERS)**\n",
    "* **SCRCPY(Remote access to Android UE)**\n",
    "Tutte queste componenti, sia hardware sia software, cooperano al fine di interconnettere i vari **User Equipement(UE)** che avranno necessità di comunicare all'interno della rete. \n",
    "### 5GCN: 5G Core Network\n",
    "Si tratta di una rete progettata con un'architettura **orientata ai servizi (SBA)** definita dal 3GPP. In questo tipo di architettura si sfruttano una serie di componenti appartenenti al 5GC, detti anche **Funzioni di Rete (NF)**, che interagiscono in modo da fornire e richiedere servizi ad altri **NF** autorizzati ad accedere ai propri. Tale interazione avviene con la logica **produttore-consumatore**. \n",
    "Le funzioni di rete legate al **Control Plane (CP)** sono separate rispetto a quelle appartenti allo **User Plane (UP)** in modo da renderle scalabili in maniera indipendente.\n",
    "* **User-Plane(Data plane):** trasporta il traffico degli utenti della rete. \n",
    "* **Contol-Plane:** controlla come i **pacchetti** dati sono trasferiti. Il processo di **Routing Table** è considerato parte del CP.\n",
    "La **Core Network** è schematicamentente rappresentata dall'**AMF** e **UPF**:\n",
    "* **AMF(Access & Mobility Management Funcion):** accede sia allo **User Equipement** e al **RAN**.\n",
    "* **UPF(User Plane Function):** gestisce i dati dell'utente.\n",
    "### MME: Mobility Management Entity\n",
    "Si tratta del principale responsabile della gestione della mobilità all'interno della rete LTE e 5G. Tale gestione comprende il tracciamento e la mobilità dello UE. Il MME performa funzioni di gestione della sessione, tra cui: creazione, modifica e terminazione di sessioni di comunicazione tra UE e la rete. Inoltre supervisiona la creazione, modifica e rilascio di portanti (canali logici che trasportano dati utente tra UE e rete 5G). \n",
    "### RAN: Radio Access Network\n",
    "La principale entità dell'NG-RAN è il **gNodeB (gNB)**. Quest'ultimo può essere suddivisono in una **Central Unit** e uno o più **Distribuited Unit(s)** connesse all'interfaccia radio. Il nodo radio gnB condente all'UE di conttersi al 5GCN NG (punto di riferimento tra l'accesso e il core network 5G, ed è costituito da parecchie interfacce, maggiormente N2 e N3). Nel caso NSA (non-stand-alone) in cui viene sfruttata anche l'interfacce aerea 4G LTE, il nodo radio di riferimento è il **eNodeB (enB)** che fornisce terminazioni E-UTRAN UP e CP verso l'UE. Si collega anch'esso al NG-CORE tramite l'interfaccia NG. \n",
    "### UE: User Equipement\n",
    "Si tratta di un qualisasi dispositivo utilizzato direttamente dall'utilizzatore finale per comunicare. Esso si connette alla **base station node B (gnB/enB)** come specificato dal 3GPP. L'UE gestisce i seguenti compiti verso la rete centrale:\n",
    "* gestione **mobilità**;\n",
    "* gestione **chiamate**;\n",
    "* gestione **sessione**;\n",
    "* gestione **identità**.\n",
    "I protocolli corrispondenti bengono trasmessi in modo trasparente tramite un **NODE B** che non modifica/utilizza/comprende le informazioni. Questi protocolli sono detti **NON ACCESS STRATUM**.\n",
    "## Test sulla rete Firecell 5G:\n",
    "L'obiettivo di questi test è la valutazione delle prestazioni della rete 5G implementata tramite un core Firecell. Le situazioni di test considerate riguardano la comunicazione tra un server centrale (sul nodo centrale Firecell) e un client, con l'aggiunta di vari livelli di traffico generato tramite iperf. Inoltre, al fine di verificare i time-stamp ottenuti durante la comunicazione client-server, viene utilizzato Wireshark per ottenere il log dettagliato dei pacchetti.\n",
    "### Componenti del Test:\n",
    "1. Client: implementato su dispositivo esterno con modem 5G dotato di SIM connesso alla rete Firecell. Ha la funzione di inviare pacchetti TCP  al server variando la dimensione del payload. Una volta inviati, ha il compito di porsi in ascolto della risposta del server. Inoltre, esso ha il compito di registrare il time-stamp di invio e ricezione e salvarli in un file CSV in modo da effettuare il calcolo dell'RTT. \n",
    "2. Server: posto sul nodo centrale della rete Firecell 5G e posto in ascolto dei messaggi inviati dal client. Ha il compito di effettuare un echo dei pacchetti TCP inviati dal client una volta ricevuti.\n",
    "3. Iperf: permette di configurare un ulteriore server e uno o più client in modo da geneare del traffico aggiuntivo per osservare il comportamento della rete.\n",
    "4. Wireshark: permette di monitorare e registrare i pacchetti TCP per verificare i time-stamp.\n",
    "### Scenari di Test:\n",
    "1. Comunicazione TCP tra Client e Server:\n",
    "   * **Client:** invia pacchetti TCP di diverse dimensioni (64, 128, 256, 512, 1024, 2048, 4096, 8192, 16284, 32768, 65536 bytes) al server. Registra il time-stamp di invio e ricezione e salva i dati in un file CSV. \n",
    "   * **Server:** avviato sul nodo centrale con indirizzo IP: XXXX. Riceve e rimanda indietro i pacchetti. \n",
    "   * **Wireshark:** monitora e registra i pacchetti con gli indirizzi IP rispettivi di client e server.\n",
    "2. Comunicazione TCP con traffico di rete generato da iperf:\n",
    "    * Client, Server e Wireshark come nella situazione di test 1.\n",
    "    * **Iperf:** genera traffico di rete con vari livelli di intensità. Quest'ultime sono:\n",
    "        1. 10 Mbps (basso traffico).\n",
    "        2. 100 Mbps (traffico moderato).\n",
    "        3. 1 Gbps (alto traffico).\n",
    "        4. 90% della capacità massima della rete (quasi saturazione).   \n",
    "Ogni test salva i time-stamp di invio e ricezione in un file CSV con la seguente struttura di **HEADER**: Payload;Timestamp Invio;Timestamp Ricezione;RTT.\n",
    "### Implementazione programmi per il test:\n",
    "Di seguito sono riportati e descritti i programmi sviluppati sia per la realizzazione della comunicazione client-server di test, sia per la configurazione e l'avvio dei programmi iperf e wireshark necessari ai fini dei test di comunicazione.\n",
    "#### SERVER TCP:"
   ]
  },
  {
   "cell_type": "code",
   "execution_count": null,
   "metadata": {},
   "outputs": [],
   "source": [
    "import socket #importa la libreria contenente funzioni per la comunicazione protocollare\n",
    "import argparse #importa la libreria per passare argomenti alle funzioni da riga di comando\n",
    "\n",
    "def start_tcp_server(host, port): #funzione per l'avvio di un server TCP con IP=host e sulla PORTA=port\n",
    "    with socket.socket(socket.AF_INET, socket.SOCK_STREAM) as server_socket: #definisce il tipo di protocollo\n",
    "        server_socket.bind((host, port)) #connette il server all'indirizzo IP e porta passati come argomento\n",
    "        server_socket.listen() #pone il server in ascolto di richieste di connessione dal client\n",
    "        print(f\"Server TCP in ascolto su {host}:{port}\")\n",
    "        \n",
    "        while True:\n",
    "            conn, addr = server_socket.accept() #accetta la connessione da client\n",
    "            with conn:\n",
    "                print(f\"Connected by {addr}\") \n",
    "                while True:\n",
    "                    data = conn.recv(65536) #preleva il dati presenti nel buffer connesso tra client-server\n",
    "                    if not data: #se non ci sono messaggi o richieste\n",
    "                        break #termina il ciclo interno e si ripone in ascolto di una connessione\n",
    "                    print(f\"Ricevuti {len(data)} bytes da {addr}\")\n",
    "                    conn.sendall(data)  # Echo dei dati ricevuti\n",
    " \n",
    "if __name__ == \"__main__\":\n",
    "    parser = argparse.ArgumentParser(description=\"TCP Server\") #Descrizione della funzione realizzata\n",
    "    parser.add_argument('--host', default='0.0.0.0', help='Host to listen on') #Indirizzo IP\n",
    "    parser.add_argument('--port', type=int, default=12345, help='Port to listen on') #Port di ascolto\n",
    "    args = parser.parse_args() #ricava gli argomenti passati da riga di comando\n",
    "\n",
    "    start_tcp_server(args.host, args.port) #avvia il server TCP\n"
   ]
  },
  {
   "cell_type": "markdown",
   "metadata": {},
   "source": [
    "#### CLIENT_TCP:"
   ]
  },
  {
   "cell_type": "code",
   "execution_count": null,
   "metadata": {},
   "outputs": [],
   "source": [
    "#Programma Python per la realizzazione di un Client sfruttando il protocollo TCP.\n",
    "#Questo client ha la funzione di inviare verso il server specificato dai parametri,\n",
    "#un messaggio contenente il payload generato dalla dimensione passata tramite parametro.\n",
    "#Una volta inviato, tale Client si pone in attesa di una risposta dal server che sarà\n",
    "#realizzato in modo da emettere un echo del messaggio. \n",
    "import socket\n",
    "import argparse\n",
    "import Utility\n",
    "\n",
    "def tcp_client(server_host,server_port,payload_size,type_test):\n",
    "    file=open(\"Istanti_temportali.csv\",\"a\") #apre il file csv in cui il client andrà a salvare gli istanti temporali e le relative informazioni di test\n",
    "    file.write(\"Inviato;Ricevuto;PackSize;Test;\\n\") #formato delle colonne del file csv\n",
    "    try:\n",
    "        with socket.socket(socket.AF_INET,socket.SOCK_STREAM) as client_socket: #avvia il protocollo TCP\n",
    "            client_socket.connect((server_host,server_port)) #Cerca la connessione con il server TCP\n",
    "        #   print(f\"Connessione al server TCP {server_host}:{server_port}\")\n",
    "            payload=b'a'*payload_size #imposta la dimensione del payload come messaggio da mandare in byte\n",
    "            sec1,us1=Utility.time_stamp() #funzione definità nel file Utility che estrae l'istante temporale dividendo i secondi dalle sue frazioni\n",
    "            client_socket.sendall(payload) #invia il messaggio al server\n",
    "        #   print(f\"Inviati {payload_size} bytes\")\n",
    "            data=client_socket.recv(65536) #buffer impostato al massimo in modo da effettuare test con variazione del payload\n",
    "            sec2,us2=Utility.time_stamp() #salva l'istante immediatamente successivo all'arrivo del messaggio da parte del server\n",
    "            file.write(str(sec1)+'.'+str(us1)+';') #scrive le informazioni nel file csv\n",
    "            file.write(str(sec2)+'.'+str(us2)+';')\n",
    "            file.write(str(payload_size)+';'+type_test+';')\n",
    "            rtt_sec=sec2-sec1 #calcolo dell'RTT \n",
    "            if rtt_sec >= 0: #controllo del segno dei secondi per verificare che non sia a cavallo dei 60 s\n",
    "                rtt_us=us2-us1 # nel caso sia corretto\n",
    "            else:\n",
    "                rtt_us=us1-us2 # nel caso per qualche motivo risulti negativo \n",
    "            file.write(str(rtt_us)+';')\n",
    "            file.write(\"\\n\")\n",
    "            file.write(\"\\n\")\n",
    "        #   print(f\"Ricevuto {len(data)} bytes da {server_host}:{server_port}\")\n",
    "            file.close() #chiude il file csv \n",
    "    except Exception as e:\n",
    "        print(f\"Eccezione {e} durante la connessione con il server.\") #comunica eventuali problematiche relative alla connessione con il server\n",
    "\n",
    "\n",
    "if __name__ == \"__main__\":\n",
    "    parser = argparse.ArgumentParser(description=\"TCP Client\") #Argomenti relativi alla chiamata del programma per l'avvio del client\n",
    "    parser.add_argument('--server_host', default='127.0.0.1', help='Server host') \n",
    "    parser.add_argument('--server_port', type=int, default=12345, help='Server port')\n",
    "    parser.add_argument('--payload_size', type=int, default=1024, help='Payload size in bytes')\n",
    "    parser.add_argument('--type_test', default='no-traffico',help='Tipologia di test')\n",
    "    args = parser.parse_args()\n",
    "\n",
    "    tcp_client(args.server_host, args.server_port, args.payload_size, args.type_test)\n",
    "       "
   ]
  },
  {
   "cell_type": "markdown",
   "metadata": {},
   "source": [
    "#### IPERF & WIRESHARK\n",
    "Per l'avvio e la configurazione di client e server iperf e l'utilizzo del software wireshark sono stati sviluppati dei programmi in Shell Script che permettono la gestione di queste entità. "
   ]
  },
  {
   "cell_type": "code",
   "execution_count": null,
   "metadata": {
    "vscode": {
     "languageId": "shellscript"
    }
   },
   "outputs": [],
   "source": [
    "#!/bin/bash\n",
    "#Funzione per l'avvio di un server IPERF passando IP, PORT e file di destinazione dell'output\n",
    "start_iperf_server(){\n",
    "    local ip=$1 #primo parametro passato come argomento\n",
    "    local port=$2 #secondo parametro passato come argomento\n",
    "    echo \"Avvio del server iperf su $ip : $port ...\"\n",
    "    iperf3 -s -B $ip -p $port & #avvio del server iperf in background sull'indirizzo e port indicati\n",
    "}\n",
    "#Funzione per l'avvio di un client IPERF passando IP del server, PORT e durata in secondi della comunicazione\n",
    "start_iperf_client() {\n",
    "    local ip=$1 #primo parametro passato come argomento: IP del server\n",
    "    local port=$2 #secondo parametro passato come argomento: PORT del server\n",
    "    local duration=$3 #terzo parametro passato come argomento: durata della comunicazione\n",
    "    local bitrate=$4 #quarto parametro passato come argomento: bitrate target per la comunicazione\n",
    "    iperf3 -c $ip -p $port -t $duration -b $bitrate & #avvio del client iperf in background con i parametri indicati\n",
    "    return $! #restituisce il PID del processo relativo all'avvio del client\n",
    "}\n",
    "#Funzione per l'avvio del programma wireshark in modo da catturare i pacchetti utili per i test\n",
    "avvio_tshark(){\n",
    "    local interfaccia=$1 #primo parametro passato come argomento: interfaccia di ascolto \n",
    "    local durata=$2 #secondo parametro passato come argomento: durata dell'ascolto\n",
    "    local output_file=$3 #terzo parametro passato come argomento: file in cui verrano salvati i risultati dell'ascolto\n",
    "    echo \"Avvio cattura dei pacchetti sull'interfaccia $interfaccia per $durata s. I dati vengono salvati in $output_file ...\"\n",
    "    tshark -i $interfaccia -a duration:$durata -w $output_file & #avvio del programma wireshark con i parametri indicati\n",
    "    return $! #restituisce il PID del processo relativo all'avvio di wireshark\n",
    "}\n"
   ]
  },
  {
   "cell_type": "markdown",
   "metadata": {},
   "source": [
    "Queste funzioni realizzate vengono utilizzate all'interno di ulteriori due programmi realizzati anch'essi in Shell Script che permettono il controllo e la realizzazione dei test di rete necessari ai fini dello studio. In particolare:\n",
    "* **Start_Server.sh:** questo programma, da avviare sul nodo centrale della rete Firecell 5G, permette l'avvio del server TCP, la configurazione e l'avvio del server Iperf e la configurazione e l'inizio dell'ascolto da parte del programma Wireshark. "
   ]
  },
  {
   "cell_type": "code",
   "execution_count": null,
   "metadata": {
    "vscode": {
     "languageId": "shellscript"
    }
   },
   "outputs": [],
   "source": [
    "#!/bin/bash\n",
    "#Programma utilizzato per l'avvio dei server da lato core 5G posti sul nodo centrale della rete 5G Firecell. Inoltre è anche configurato\n",
    "#l'applicazione wireshark al fine di ottenere i valori dei time-stamp relativi ai pacchetti scambiati nella fase di test della rete.\n",
    "#______________________________________________________________________________________________________________________________________\n",
    "#Importo i file contenenti le funzioni utilizzate per avviare e controllare i Client e \n",
    "#server, la lettura del file di configurazione, la configurazione di client e server iperf e \n",
    "#la configurazione dell'ascolto effettuato da wireshark.\n",
    "chmod +x Lettura_File_Config.sh #fornisce i permessi per eseguire i programmi\n",
    "chmod +x Iperf.sh\n",
    "chmod +x Wireshark.sh\n",
    "chmod +x Analisi_Pacchetti.sh\n",
    "source Lettura_File_Config.sh #Lettura del file di configurazione contenenti i valori utilizzati per i test\n",
    ". Iperf.sh #Funzioni per l'avvio di server il client iperf\n",
    ". Wireshark.sh #Funzione per l'avvio dell'ascolto su wireshark\n",
    "#______________________________________________________________________________________________________________________________________\n",
    "IP_SERVER=$(ini_get_value server ip) #indirizzo IP del server di echo\n",
    "PORT_SERVER=$(ini_get_value server port) #port in cui si pone in ascolto il server di echo\n",
    "IPERF_SERVER_IP=$(ini_get_value iperf ip_server) #indirizzo IP del server iperf\n",
    "IPERF_SERVER_PORT=$(ini_get_value iperf server_port) #porta su cui il server si pone in ascolto\n",
    "WIRESHARK_INTERFACCIA=$(ini_get_value wireshark interfaccia) #interfaccia di ascolto di wireshark\n",
    "WIRESHARK_DURATA=$(ini_get_value wireshark durata) #durata dell'ascolto di wireshark\n",
    "WIRESHARK_OUTPUT_FILE=$(ini_get_value wireshark output_file) #file in cui vengono salvati i risultati ottenuti dall'ascolto di wireshark\n",
    "FILE_CSV_WIRESHARK=$(ini_get_value wireshark out_csv) #file in formato csv contenente i pacchetti di interesse dell'analisi di rete\n",
    "#_____________________________________________________________________________________________________________________________________\n",
    "python3 Server.py --host \"$IP_SERVER\" --port \"$PORT_SERVER\" & #avvio del server con i parametri ottenuti da file di configurazione\n",
    "start_iperf_server $IPERF_SERVER_IP $IPERF_SERVER_PORT & #avvia il server iperf con i parametri ottenuti da file di configurazione\n",
    "avvio_tshark $WIRESHARK_INTERFACCIA $WIRESHARK_DURATA $WIRESHARK_OUTPUT_FILE #avvia l'ascolto di wireshark con i parametri ottenuti da file di configurazione\n",
    "wait $! #attende il termine del processo di ascolto di wireshark\n",
    "if [ $? -eq 0 ]; then #controlla lo stato d'uscita dell'ascolto di wireshark evidenziando eventuali errori\n",
    "    echo \"Cattura completata. File salvato in $WIRESHARK_OUTPUT_FILE\"\n",
    "  # Avvia Wireshark per analizzare il file di cattura\n",
    "  #  wireshark $WIRESHARK_OUTPUT_FILE &\n",
    "  #  kill $!\n",
    "else\n",
    "    echo \"Errore nella cattura dei pacchetti.\"\n",
    "    exit 1\n",
    "fi\n",
    "# Terminare il server iperf e python3\n",
    "killall iperf3 \n",
    "killall python3\n",
    "# Avvia l'analisi dei pacchetti ottenuti da wireshark in modo da estrarre solamente quelli di interesse\n",
    "./Analisi_Pacchetti.sh \"$WIRESHARK_OUTPUT_FILE\" \"$IP_SERVER\" \"$FILE_CSV_WIRESHARK\"\n",
    "\n",
    "\n"
   ]
  },
  {
   "cell_type": "markdown",
   "metadata": {},
   "source": [
    "* **Client_Test.sh:** questo programma permette l'avvio del client iperf con i valori di bitrate target impostati per i vari scenari di test. Inoltre, per ogni scenario di test, provvede ad avviare il client TCP con differenti dimensioni del payload."
   ]
  },
  {
   "cell_type": "code",
   "execution_count": null,
   "metadata": {
    "vscode": {
     "languageId": "shellscript"
    }
   },
   "outputs": [],
   "source": [
    "#!/bin/bash\n",
    "#Fornisce i permessi e le funzioni necessarie all'avvio delle entità client per il test\n",
    "chmod +x Lettura_File_Config.sh\n",
    ". Iperf.sh\n",
    "source Lettura_File_Config.sh\n",
    "# Definisci i valori dimensione payload\n",
    "dim_payload=(\"8\" \"16\" \"32\" \"64\" \"128\" \"256\" \"512\" \"1024\" \"2048\" \"4096\" \"8192\" \"16384\" \"32768\" \"65536\") #dimensioni di payload in bit\n",
    "dim_bw=(\"10M\" \"100M\" \"1G\" \"9G\") #Bitrate \n",
    "IP_SERVER=$(ini_get_value server ip) #indirizzo IP del server TCP a cui il client si connette\n",
    "PORT_SERVER=$(ini_get_value server port) #port in cui il server TCP è in ascolto\n",
    "IPERF_CLIENT_DURATION=$(ini_get_value iperf client_duration) #durata del test realizzato tramite iperf\n",
    "IPERF_CLIENT_PORT=$(ini_get_value iperf client_port) #port in cui si pone il client iperf\n",
    "IPERF_SERVER_IP=$(ini_get_value iperf ip_server) #indirizzo IP del server iperf\n",
    "IPERF_SERVER_PORT=$(ini_get_value iperf server_port) #port del server iperf\n",
    "\n",
    "for dim in \"${dim_bw[@]}\" #loop che varia il traffico generato dal client iperf\n",
    "  do\n",
    "    #chiamata a funzione di avvio del client con i parametri passati\n",
    "    start_iperf_client $IPERF_SERVER_IP $IPERF_CLIENT_PORT $IPERF_CLIENT_DURATION $dim #salvataggio del pid del processo client iperf in modo da poter sapere quando è terminato\n",
    "    pid=$!\n",
    "    echo \"Client iperf avvianto al: $IPERF_SERVER_IP:$IPERF_SERVER_PORT per $IPERF_CLIENT_DURATION s con $dim di bitrate.\"\n",
    "    for param1 in \"${dim_payload[@]}\" #loop che varia la dimensione dei payload dei messaggi scambiati tra client e server\n",
    "      do\n",
    "        python3 Client.py --server_host \"$IP_SERVER\" --server_port \"$PORT_SERVER\" --payload_size \"$param1\" --type_test \"$dim\" & #programma python che avvia il client di test\n",
    "        wait $! #aspetta che client e server abbiano comunicato \n",
    "      done\n",
    "    wait $pid #aspetta che iperf finisca\n",
    "  done\n",
    "\n",
    "\n"
   ]
  },
  {
   "cell_type": "markdown",
   "metadata": {
    "vscode": {
     "languageId": "shellscript"
    }
   },
   "source": [
    "Questi programmi prendono i loro parametri da un file di configurazione, chiamato **config.ini** che presenta la seguente struttura:\n",
    "[sezione]\n",
    "chiave = valore parametro\n",
    "...\n",
    "[sezione]\n",
    "chiave = valore parametro\n",
    "...\n",
    "[sezione]\n",
    "chiave = valore parametro\n",
    "...\n",
    "[sezione]\n",
    "chiave = valore parametro\n",
    "...\n",
    "Per la lettura da tale file è stato realizzato un programma, **Lettura_File_Config.sh**, che permette di aprire il file di configurazione e fornisce le funzioni per ricavare i parametri di interesse. In particolare:\n",
    "*  **ini_get_section:** restituisce le sezioni del file di configurazione.\n",
    "*  **ini_get_key_value:** restituisce le chiavi di una sezione passata come parametro.\n",
    "*  **ini_get_value:** restituisce il valore relativo alla **sezione** e **chiave** passati come parametro.\n",
    "Infine, tramite il programma **Analisi_Pacchetti.sh** viene elaborato il file di output di wireshark permettendo di estrarre i pacchetti di interesse ai fini dei test sulla rete."
   ]
  },
  {
   "cell_type": "code",
   "execution_count": null,
   "metadata": {
    "vscode": {
     "languageId": "shellscript"
    }
   },
   "outputs": [],
   "source": [
    "#!/bin/bash\n",
    "\n",
    "# Verifica che siano stati passati i parametri necessari\n",
    "if [ \"$#\" -ne 3 ]; then \n",
    "    echo \"Uso: $0 <file.pcapng> <indirizzo IP> <output.csv>\"\n",
    "    exit 1\n",
    "fi\n",
    "\n",
    "# Parametri\n",
    "PCAP_FILE=$1 #argomento relativo al file di output di wireshark\n",
    "IP_ADDRESS=$2 #argomento relativo all'indirizzo IP di interesse dei pacchetti\n",
    "OUTPUT_CSV=$3 #argomento relativo al file di out in formato csv\n",
    "\n",
    "# Estrazione dei pacchetti relativi all'indirizzo IP specificato\n",
    "tshark -r \"$PCAP_FILE\" -Y \"ip.src == $IP_ADDRESS || ip.dst == $IP_ADDRESS\" -T fields -e frame.number -e frame.time -e ip.src -e ip.dst -e ip.proto -e ip.len -e frame.len -E header=y -E separator=, -E quote=d > \"$OUTPUT_CSV\"\n",
    "\n",
    "echo \"Estrazione completata. I dati sono stati salvati in $OUTPUT_CSV\"\n"
   ]
  }
 ],
 "metadata": {
  "kernelspec": {
   "display_name": "Python 3",
   "language": "python",
   "name": "python3"
  },
  "language_info": {
   "name": "python",
   "version": "3.12.4"
  }
 },
 "nbformat": 4,
 "nbformat_minor": 2
}
