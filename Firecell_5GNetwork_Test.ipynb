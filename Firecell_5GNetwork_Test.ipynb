{
 "cells": [
  {
   "cell_type": "markdown",
   "metadata": {},
   "source": [
    "# Analisi delle Prestazioni dell'infrastruttura di Rete Firecell 5G\n",
    "## Firecell - Labkit:  \n",
    "Il Firecell-Labkit è un'infrastruttura che permette di distribuire e utilizzare una rete di comunicazione basata su 4G/5G sia in modalità stand-alone (senza l'utilizzo della rete 4G) sia in modalità non-stand-alone in cui vengono sfruttati sia i nodi appartenenti alla rete 4G (enB) sia in nodi appartenenti alla rete 5G (gnB). \n",
    "Il Firecell-Labkit è fornito sia di componenti software sia di tools necessari alla distribuzione della rete e alla validazione del sistema. Tra essi troviamo:\n",
    "* **OAI 5GCN(AUSF,UDM,UDR,AMF,SMF,UPF)**\n",
    "* **MME**\n",
    "* **OAI EPC(HSS, SPGWC,SPGWU)**\n",
    "* **OAI RAN(eNodeB,gNodeB)** \n",
    "* **Wireshark**\n",
    "* **UHD(USRP HW DRIVERS)**\n",
    "* **SCRCPY(Remote access to Android UE)**\n",
    "Tutte queste componenti, sia hardware sia software, cooperano al fine di interconnettere i vari **User Equipement(UE)** che avranno necessità di comunicare all'interno della rete. \n",
    "### 5GCN: 5G Core Network\n",
    "Si tratta di una rete progettata con un'architettura **orientata ai servizi (SBA)** definita dal 3GPP. In questo tipo di architettura si sfruttano una serie di componenti appartenenti al 5GC, detti anche **Funzioni di Rete (NF)**, che interagiscono in modo da fornire e richiedere servizi ad altri **NF** autorizzati ad accedere ai propri. Tale interazione avviene con la logica **produttore-consumatore**. \n",
    "Le funzioni di rete legate al **Control Plane (CP)** sono separate rispetto a quelle appartenti allo **User Plane (UP)** in modo da renderle scalabili in maniera indipendente.\n",
    "* **User-Plane(Data plane):** trasporta il traffico degli utenti della rete. \n",
    "* **Contol-Plane:** controlla come i **pacchetti** dati sono trasferiti. Il processo di **Routing Table** è considerato parte del CP.\n",
    "La **Core Network** è schematicamentente rappresentata dall'**AMF** e **UPF**:\n",
    "* **AMF(Access & Mobility Management Funcion):** accede sia allo **User Equipement** e al **RAN**.\n",
    "* **UPF(User Plane Function):** gestisce i dati dell'utente.\n",
    "### MME: Mobility Management Entity\n",
    "Si tratta del principale responsabile della gestione della mobilità all'interno della rete LTE e 5G. Tale gestione comprende il tracciamento e la mobilità dello UE. Il MME performa funzioni di gestione della sessione, tra cui: creazione, modifica e terminazione di sessioni di comunicazione tra UE e la rete. Inoltre supervisiona la creazione, modifica e rilascio di portanti (canali logici che trasportano dati utente tra UE e rete 5G). \n",
    "### RAN: Radio Access Network\n",
    "La principale entità dell'NG-RAN è il **gNodeB (gNB)**. Quest'ultimo può essere suddivisono in una **Central Unit** e uno o più **Distribuited Unit(s)** connesse all'interfaccia radio. Il nodo radio gnB condente all'UE di conttersi al 5GCN NG (punto di riferimento tra l'accesso e il core network 5G, ed è costituito da parecchie interfacce, maggiormente N2 e N3). Nel caso NSA (non-stand-alone) in cui viene sfruttata anche l'interfacce aerea 4G LTE, il nodo radio di riferimento è il **eNodeB (enB)** che fornisce terminazioni E-UTRAN UP e CP verso l'UE. Si collega anch'esso al NG-CORE tramite l'interfaccia NG. \n",
    "\n",
    "### UE: User Equipement\n",
    "Si tratta di un qualisasi dispositivo utilizzato direttamente dall'utilizzatore finale per comunicare. Esso si connette alla **base station node B (gnB/enB)** come specificato dal 3GPP. L'UE gestisce i seguenti compiti verso la rete centrale:\n",
    "* gestione **mobilità**;\n",
    "* gestione **chiamate**;\n",
    "* gestione **sessione**;\n",
    "* gestione **identità**.\n",
    "\n",
    "I protocolli corrispondenti bengono trasmessi in modo trasparente tramite un **NODE B** che non modifica/utilizza/comprende le informazioni. Questi protocolli sono detti **NON ACCESS STRATUM**.\n",
    "\n",
    "## Test sulla rete Firecell 5G:\n",
    "L'obiettivo di questi test è la valutazione delle prestazioni della rete 5G implementata tramite un core Firecell. Le situazioni di test considerate riguardano la comunicazione tra un server centrale (sul nodo centrale Firecell) e un client, con l'aggiunta di vari livelli di traffico generato tramite iperf. Inoltre, al fine di verificare i time-stamp ottenuti durante la comunicazione client-server, viene utilizzato Wireshark per ottenere il log dettagliato dei pacchetti.\n",
    "### Componenti del Test:\n",
    "1. Client: implementato su dispositivo esterno con modem 5G dotato di SIM connesso alla rete Firecell. Ha la funzione di inviare pacchetti TCP al server variando la dimensione del payload. Una volta inviati, ha il compito di porsi in ascolto della risposta del server. Inoltre, esso ha il compito di registrare il time-stamp di invio e ricezione e salvarli in un file CSV in modo da effettuare il calcolo dell'RTT. \n",
    "2. Server: posto sul nodo centrale della rete Firecell 5G e posto in ascolto dei messaggi inviati dal client. Ha il compito di effettuare un echo dei pacchetti TCP inviati dal client una volta ricevuti.\n",
    "3. Iperf: permette di configurare un ulteriore server e uno o più client in modo da geneare del traffico aggiuntivo per osservare il comportamento della rete.\n",
    "4. Wireshark: permette di monitorare e registrare i pacchetti TCP per verificare i time-stamp.\n",
    "\n",
    "### Scenari di Test:\n",
    "1. Comunicazione TCP tra Client e Server:\n",
    "   * **Client:** invia pacchetti TCP di diverse dimensioni (64, 128, 256, 512, 1024, 2048, 4096, 8192, 16284 bytes) al server. Registra il time-stamp di invio e ricezione e salva i dati in un file CSV. \n",
    "   * **Server:** avviato sul nodo centrale con indirizzo IP: XXXX. Riceve e rimanda indietro i pacchetti. \n",
    "   * **Wireshark:** monitora e registra i pacchetti con gli indirizzi IP rispettivi di client e server.\n",
    "2. Comunicazione TCP con traffico di rete generato da iperf:\n",
    "    * Client, Server e Wireshark come nella situazione di test 1.\n",
    "    * **Iperf:** genera traffico di rete con vari livelli di intensità. Quest'ultime sono:\n",
    "        1. 10 Mbps (basso traffico).\n",
    "        2. 100 Mbps (traffico moderato).\n",
    "        3. 1 Gbps (alto traffico).\n",
    "        4. 90% della capacità massima della rete (quasi saturazione).\n",
    "   \n",
    "Ogni test salva i time-stamp di invio e ricezione in un file CSV con la seguente struttura di **HEADER**: Payload;Timestamp Invio;Timestamp Ricezione;RTT.\n"
   ]
  },
  {
   "cell_type": "markdown",
   "metadata": {},
   "source": [
    "                                    [iperf Client] <--> [iperf Server]\n",
    "                                          ^                   ^\n",
    "                                          |     ______________|\n",
    "                                          |     |\n",
    "                                          v     v\n",
    "                         [Client] <--> [Core Firecell] <--> [Server (Echo)]\n",
    "                            |             |                     |\n",
    "                            |        [Wireshark]           [Wireshark]\n",
    "                            |             |                     |\n",
    "                            v             v                     v\n",
    "                    [CSV: Timestamp Invio/Ricezione]   [CSV: Timestamp Invio/Ricezione]\n"
   ]
  },
  {
   "cell_type": "markdown",
   "metadata": {},
   "source": [
    "Prima di effettuare ogni test è necessario utilizzare il protocollo NTP sulle due macchine in cui vengono posti client e server. Tale protocollo permette di sincronizzare gli orologi dei computer su una rete garantendo misurazioni temporali allineate. "
   ]
  }
 ],
 "metadata": {
  "language_info": {
   "name": "python"
  }
 },
 "nbformat": 4,
 "nbformat_minor": 2
}
